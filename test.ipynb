{
 "cells": [
  {
   "cell_type": "code",
   "execution_count": 1,
   "id": "b320a1b8",
   "metadata": {},
   "outputs": [
    {
     "name": "stdout",
     "output_type": "stream",
     "text": [
      "<class 'pandas.core.frame.DataFrame'>\n",
      "RangeIndex: 64 entries, 0 to 63\n",
      "Data columns (total 7 columns):\n",
      " #   Column  Non-Null Count  Dtype  \n",
      "---  ------  --------------  -----  \n",
      " 0   대분류코드   64 non-null     object \n",
      " 1   대분류명    64 non-null     object \n",
      " 2   중분류코드   64 non-null     object \n",
      " 3   중분류명    64 non-null     object \n",
      " 4   소분류코드   64 non-null     object \n",
      " 5   소분류명    64 non-null     object \n",
      " 6   자동입력코드  0 non-null      float64\n",
      "dtypes: float64(1), object(6)\n",
      "memory usage: 3.6+ KB\n"
     ]
    }
   ],
   "source": [
    "import pandas as pd \n",
    "\n",
    "path = r\"C:\\Jimin\\cg_suri_playwright\\output\\hira_classification_map_20250725_204526.csv\"\n",
    "\n",
    "df = pd.read_csv(path)\n",
    "df.info()"
   ]
  },
  {
   "cell_type": "code",
   "execution_count": 2,
   "id": "ae2f9a38",
   "metadata": {},
   "outputs": [],
   "source": [
    "df.to_excel(\"hira_classification_map.xlsx\")"
   ]
  },
  {
   "cell_type": "code",
   "execution_count": 3,
   "id": "dc2ec2b5",
   "metadata": {},
   "outputs": [
    {
     "data": {
      "text/html": [
       "<div>\n",
       "<style scoped>\n",
       "    .dataframe tbody tr th:only-of-type {\n",
       "        vertical-align: middle;\n",
       "    }\n",
       "\n",
       "    .dataframe tbody tr th {\n",
       "        vertical-align: top;\n",
       "    }\n",
       "\n",
       "    .dataframe thead th {\n",
       "        text-align: right;\n",
       "    }\n",
       "</style>\n",
       "<table border=\"1\" class=\"dataframe\">\n",
       "  <thead>\n",
       "    <tr style=\"text-align: right;\">\n",
       "      <th></th>\n",
       "      <th>대분류코드</th>\n",
       "      <th>대분류명</th>\n",
       "      <th>중분류코드</th>\n",
       "      <th>중분류명</th>\n",
       "      <th>소분류코드</th>\n",
       "      <th>소분류명</th>\n",
       "      <th>자동입력코드</th>\n",
       "    </tr>\n",
       "  </thead>\n",
       "  <tbody>\n",
       "    <tr>\n",
       "      <th>0</th>\n",
       "      <td>A</td>\n",
       "      <td>요양급여비용산정기준(행위)</td>\n",
       "      <td>A</td>\n",
       "      <td>요양급여비용산정기준(행위)</td>\n",
       "      <td>A</td>\n",
       "      <td>요양급여비용산정기준(행위)</td>\n",
       "      <td>NaN</td>\n",
       "    </tr>\n",
       "    <tr>\n",
       "      <th>1</th>\n",
       "      <td>A</td>\n",
       "      <td>요양급여비용산정기준(행위)</td>\n",
       "      <td>A</td>\n",
       "      <td>요양급여비용산정기준(행위)</td>\n",
       "      <td>B</td>\n",
       "      <td>요양급여비용산정기준(약제)</td>\n",
       "      <td>NaN</td>\n",
       "    </tr>\n",
       "    <tr>\n",
       "      <th>2</th>\n",
       "      <td>A</td>\n",
       "      <td>요양급여비용산정기준(행위)</td>\n",
       "      <td>A</td>\n",
       "      <td>요양급여비용산정기준(행위)</td>\n",
       "      <td>C</td>\n",
       "      <td>요양급여비용산정기준(치료재료)</td>\n",
       "      <td>NaN</td>\n",
       "    </tr>\n",
       "    <tr>\n",
       "      <th>3</th>\n",
       "      <td>A</td>\n",
       "      <td>요양급여비용산정기준(행위)</td>\n",
       "      <td>A</td>\n",
       "      <td>요양급여비용산정기준(행위)</td>\n",
       "      <td>D</td>\n",
       "      <td>고시 등</td>\n",
       "      <td>NaN</td>\n",
       "    </tr>\n",
       "  </tbody>\n",
       "</table>\n",
       "</div>"
      ],
      "text/plain": [
       "  대분류코드            대분류명 중분류코드            중분류명 소분류코드              소분류명  자동입력코드\n",
       "0     A  요양급여비용산정기준(행위)     A  요양급여비용산정기준(행위)     A    요양급여비용산정기준(행위)     NaN\n",
       "1     A  요양급여비용산정기준(행위)     A  요양급여비용산정기준(행위)     B    요양급여비용산정기준(약제)     NaN\n",
       "2     A  요양급여비용산정기준(행위)     A  요양급여비용산정기준(행위)     C  요양급여비용산정기준(치료재료)     NaN\n",
       "3     A  요양급여비용산정기준(행위)     A  요양급여비용산정기준(행위)     D              고시 등     NaN"
      ]
     },
     "execution_count": 3,
     "metadata": {},
     "output_type": "execute_result"
    }
   ],
   "source": [
    "df.head(4)"
   ]
  },
  {
   "cell_type": "code",
   "execution_count": 1,
   "id": "3bade1df",
   "metadata": {},
   "outputs": [
    {
     "data": {
      "text/html": [
       "<div>\n",
       "<style scoped>\n",
       "    .dataframe tbody tr th:only-of-type {\n",
       "        vertical-align: middle;\n",
       "    }\n",
       "\n",
       "    .dataframe tbody tr th {\n",
       "        vertical-align: top;\n",
       "    }\n",
       "\n",
       "    .dataframe thead th {\n",
       "        text-align: right;\n",
       "    }\n",
       "</style>\n",
       "<table border=\"1\" class=\"dataframe\">\n",
       "  <thead>\n",
       "    <tr style=\"text-align: right;\">\n",
       "      <th></th>\n",
       "      <th>대분류코드</th>\n",
       "      <th>대분류명</th>\n",
       "      <th>중분류코드</th>\n",
       "      <th>중분류명</th>\n",
       "      <th>소분류코드</th>\n",
       "      <th>소분류명</th>\n",
       "      <th>수집시간</th>\n",
       "    </tr>\n",
       "  </thead>\n",
       "  <tbody>\n",
       "    <tr>\n",
       "      <th>0</th>\n",
       "      <td>A</td>\n",
       "      <td>요양급여비용산정기준(행위)</td>\n",
       "      <td>0</td>\n",
       "      <td>일반원칙</td>\n",
       "      <td>A00000</td>\n",
       "      <td>산정방법 및 일반원칙</td>\n",
       "      <td>2025-07-25T22:40:41.577472</td>\n",
       "    </tr>\n",
       "    <tr>\n",
       "      <th>1</th>\n",
       "      <td>A</td>\n",
       "      <td>요양급여비용산정기준(행위)</td>\n",
       "      <td>0</td>\n",
       "      <td>일반원칙</td>\n",
       "      <td>A00997</td>\n",
       "      <td>비급여</td>\n",
       "      <td>2025-07-25T22:40:41.577472</td>\n",
       "    </tr>\n",
       "    <tr>\n",
       "      <th>2</th>\n",
       "      <td>A</td>\n",
       "      <td>요양급여비용산정기준(행위)</td>\n",
       "      <td>0</td>\n",
       "      <td>일반원칙</td>\n",
       "      <td>A00998</td>\n",
       "      <td>본인부담</td>\n",
       "      <td>2025-07-25T22:40:41.578473</td>\n",
       "    </tr>\n",
       "    <tr>\n",
       "      <th>3</th>\n",
       "      <td>A</td>\n",
       "      <td>요양급여비용산정기준(행위)</td>\n",
       "      <td>0</td>\n",
       "      <td>일반원칙</td>\n",
       "      <td>A00999</td>\n",
       "      <td>기타</td>\n",
       "      <td>2025-07-25T22:40:41.578473</td>\n",
       "    </tr>\n",
       "  </tbody>\n",
       "</table>\n",
       "</div>"
      ],
      "text/plain": [
       "  대분류코드            대분류명  중분류코드  중분류명   소분류코드         소분류명  \\\n",
       "0     A  요양급여비용산정기준(행위)      0  일반원칙  A00000  산정방법 및 일반원칙   \n",
       "1     A  요양급여비용산정기준(행위)      0  일반원칙  A00997          비급여   \n",
       "2     A  요양급여비용산정기준(행위)      0  일반원칙  A00998         본인부담   \n",
       "3     A  요양급여비용산정기준(행위)      0  일반원칙  A00999           기타   \n",
       "\n",
       "                         수집시간  \n",
       "0  2025-07-25T22:40:41.577472  \n",
       "1  2025-07-25T22:40:41.577472  \n",
       "2  2025-07-25T22:40:41.578473  \n",
       "3  2025-07-25T22:40:41.578473  "
      ]
     },
     "execution_count": 1,
     "metadata": {},
     "output_type": "execute_result"
    }
   ],
   "source": [
    "import pandas as pd \n",
    "import os \n",
    "\n",
    "base_path = \"./output\"\n",
    "file_name = \"hira_hierarchy_20250725_224303.csv\"\n",
    "target = os.path.join(base_path,file_name)\n",
    "\n",
    "df = pd.read_csv(target)\n",
    "df.head(4)"
   ]
  },
  {
   "cell_type": "code",
   "execution_count": 2,
   "id": "8cc59458",
   "metadata": {},
   "outputs": [],
   "source": [
    "\n",
    "new_file_name = \"hira_hierarchy_index.xlsx\"\n",
    "\n",
    "new = os.path.join(base_path, new_file_name)\n",
    "\n",
    "df.to_excel(new)"
   ]
  },
  {
   "cell_type": "code",
   "execution_count": null,
   "id": "ec6d7be4",
   "metadata": {},
   "outputs": [],
   "source": []
  }
 ],
 "metadata": {
  "kernelspec": {
   "display_name": "suri-play",
   "language": "python",
   "name": "python3"
  },
  "language_info": {
   "codemirror_mode": {
    "name": "ipython",
    "version": 3
   },
   "file_extension": ".py",
   "mimetype": "text/x-python",
   "name": "python",
   "nbconvert_exporter": "python",
   "pygments_lexer": "ipython3",
   "version": "3.10.18"
  }
 },
 "nbformat": 4,
 "nbformat_minor": 5
}
